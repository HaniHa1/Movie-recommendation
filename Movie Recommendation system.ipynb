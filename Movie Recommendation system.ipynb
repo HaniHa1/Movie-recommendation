{
 "cells": [
  {
   "cell_type": "code",
   "execution_count": null,
   "metadata": {},
   "outputs": [],
   "source": [
    "pip install -r requirements.txt\n"
   ]
  },
  {
   "cell_type": "markdown",
   "metadata": {},
   "source": [
    "# Preprocess the data:"
   ]
  },
  {
   "cell_type": "code",
   "execution_count": null,
   "metadata": {},
   "outputs": [],
   "source": [
    "import pandas as pd\n",
    "import numpy as np\n",
    "from sklearn.feature_extraction.text import TfidfVectorizer\n",
    "from sklearn.metrics.pairwise import linear_kernel\n",
    "import matplotlib.pyplot as plt\n",
    "import seaborn as sns\n",
    "\n",
    "# Load datasets\n",
    "movies = pd.read_csv('data/ml-1m/movies.dat', sep='::', header=None, engine='python', names=['movieId', 'title', 'genres'])\n",
    "ratings = pd.read_csv('data/ml-1m/ratings.dat', sep='::', header=None, engine='python', names=['userId', 'movieId', 'rating', 'timestamp'])\n",
    "users = pd.read_csv('data/ml-1m/users.dat', sep='::', header=None, engine='python', names=['userId', 'gender', 'age', 'occupation', 'zip'])\n",
    "\n",
    "# Preprocess movie metadata\n",
    "movies['genres'] = movies['genres'].str.replace('|', ' ')\n",
    "\n",
    "# Merge ratings and movies data\n",
    "ratings = ratings.merge(movies[['movieId', 'title']], on='movieId')"
   ]
  },
  {
   "cell_type": "markdown",
   "metadata": {},
   "source": [
    "# Implement Collaborative Filtering:"
   ]
  },
  {
   "cell_type": "code",
   "execution_count": null,
   "metadata": {},
   "outputs": [],
   "source": [
    "# Create user-item matrix\n",
    "user_movie_matrix = ratings.pivot(index='userId', columns='movieId', values='rating').fillna(0)\n",
    "matrix = csr_matrix(user_movie_matrix.values)\n",
    "\n",
    "# Fit KNN model\n",
    "model_knn = NearestNeighbors(metric='cosine', algorithm='brute', n_neighbors=20, n_jobs=-1)\n",
    "model_knn.fit(matrix)\n",
    "\n",
    "# Function to get movie recommendations based on user-item interactions\n",
    "def collaborative_filtering(user_id, n_recommendations=10):\n",
    "    user_index = user_movie_matrix.index.get_loc(user_id)\n",
    "    distances, indices = model_knn.kneighbors(matrix[user_index], n_neighbors=n_recommendations+1)\n",
    "    \n",
    "    recommendations = []\n",
    "    for i in range(1, len(distances.flatten())):\n",
    "        idx = indices.flatten()[i]\n",
    "        movie_id = user_movie_matrix.columns[idx]\n",
    "        recommendations.append(movies[movies['movieId'] == movie_id]['title'].values[0])\n",
    "    \n",
    "    return recommendations"
   ]
  },
  {
   "cell_type": "markdown",
   "metadata": {},
   "source": [
    "# Implement Content-Based Filtering:"
   ]
  },
  {
   "cell_type": "code",
   "execution_count": null,
   "metadata": {},
   "outputs": [],
   "source": [
    "# Fit TF-IDF model\n",
    "tfidf = TfidfVectorizer(stop_words='english')\n",
    "tfidf_matrix = tfidf.fit_transform(movies['genres'])\n",
    "\n",
    "# Compute cosine similarity matrix\n",
    "cosine_sim = linear_kernel(tfidf_matrix, tfidf_matrix)\n",
    "\n",
    "# Function to get movie recommendations based on movie metadata\n",
    "def content_based_filtering(movie_title, n_recommendations=10):\n",
    "    idx = movies[movies['title'] == movie_title].index[0]\n",
    "    sim_scores = list(enumerate(cosine_sim[idx]))\n",
    "    sim_scores = sorted(sim_scores, key=lambda x: x[1], reverse=True)\n",
    "    sim_scores = sim_scores[1:n_recommendations+1]\n",
    "    \n",
    "    movie_indices = [i[0] for i in sim_scores]\n",
    "    recommendations = movies['title'].iloc[movie_indices].tolist()\n",
    "    \n",
    "    return recommendations"
   ]
  },
  {
   "cell_type": "code",
   "execution_count": null,
   "metadata": {},
   "outputs": [],
   "source": [
    "def hybrid_recommendations(user_id, movie_title, n_recommendations=10):\n",
    "    collab_recs = collaborative_filtering(user_id, n_recommendations)\n",
    "    content_recs = content_based_filtering(movie_title, n_recommendations)\n",
    "    \n",
    "    # Combine recommendations\n",
    "    combined_recs = list(set(collab_recs + content_recs))\n",
    "    \n",
    "    return combined_recs[:n_recommendations]"
   ]
  },
  {
   "cell_type": "markdown",
   "metadata": {},
   "source": [
    "# Create Visualizations"
   ]
  },
  {
   "cell_type": "code",
   "execution_count": null,
   "metadata": {},
   "outputs": [],
   "source": [
    "# Distribution of Ratings\n",
    "plt.figure(figsize=(10, 6))\n",
    "sns.countplot(ratings['rating'])\n",
    "plt.title('Distribution of Movie Ratings')\n",
    "plt.xlabel('Rating')\n",
    "plt.ylabel('Count')\n",
    "plt.show()\n",
    "\n",
    "# Most Rated Movies\n",
    "most_rated = ratings.groupby('title').size().sort_values(ascending=False)[:10]\n",
    "plt.figure(figsize=(10, 6))\n",
    "sns.barplot(x=most_rated.values, y=most_rated.index, palette='viridis')\n",
    "plt.title('Top 10 Most Rated Movies')\n",
    "plt.xlabel('Number of Ratings')\n",
    "plt.ylabel('Movie Title')\n",
    "plt.show()"
   ]
  },
  {
   "cell_type": "markdown",
   "metadata": {},
   "source": [
    "# Example"
   ]
  },
  {
   "cell_type": "code",
   "execution_count": null,
   "metadata": {},
   "outputs": [],
   "source": [
    "user_id = 1\n",
    "movie_title = 'Toy Story (1995)'\n",
    "\n",
    "print(\"Collaborative Filtering Recommendations:\")\n",
    "print(collaborative_filtering(user_id))\n",
    "\n",
    "print(\"\\nContent-Based Filtering Recommendations:\")\n",
    "print(content_based_filtering(movie_title))\n",
    "\n",
    "print(\"\\nHybrid Recommendations:\")\n",
    "print(hybrid_recommendations(user_id, movie_title))"
   ]
  },
  {
   "cell_type": "markdown",
   "metadata": {},
   "source": [
    "# Future Enhancements\n"
   ]
  },
  {
   "cell_type": "raw",
   "metadata": {},
   "source": [
    "Model Tuning: Use grid search or randomized search to tune hyperparameters for both collaborative and content-based models.\n",
    "Neural Network Models: Implement neural network-based collaborative filtering using TensorFlow or Keras.\n",
    "Large-Scale Data Processing: Use Apache Spark for handling larger datasets and distributed processing.\n",
    "Advanced Evaluation: Implement more advanced evaluation metrics like precision, recall, F1-score, and AUC-ROC."
   ]
  }
 ],
 "metadata": {
  "kernelspec": {
   "display_name": "Python 3",
   "language": "python",
   "name": "python3"
  },
  "language_info": {
   "codemirror_mode": {
    "name": "ipython",
    "version": 3
   },
   "file_extension": ".py",
   "mimetype": "text/x-python",
   "name": "python",
   "nbconvert_exporter": "python",
   "pygments_lexer": "ipython3",
   "version": "3.8.3"
  }
 },
 "nbformat": 4,
 "nbformat_minor": 4
}
